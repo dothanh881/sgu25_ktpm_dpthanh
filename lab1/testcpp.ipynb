{
 "cells": [
  {
   "cell_type": "code",
   "execution_count": 9,
   "id": "ee6c5fd1",
   "metadata": {},
   "outputs": [
    {
     "name": "stdout",
     "output_type": "stream",
     "text": [
      "Overwriting baitap1_testcase.inp\n"
     ]
    }
   ],
   "source": [
    "%%writefile baitap1_testcase.inp \n",
    "12"
   ]
  },
  {
   "cell_type": "code",
   "execution_count": 22,
   "id": "a728279b",
   "metadata": {},
   "outputs": [
    {
     "name": "stdout",
     "output_type": "stream",
     "text": [
      "Writing baitap2_testcase.inp\n"
     ]
    }
   ],
   "source": [
    "%%writefile baitap2_testcase.inp \n",
    "0"
   ]
  },
  {
   "cell_type": "code",
   "execution_count": 23,
   "id": "21b2c8e1",
   "metadata": {},
   "outputs": [
    {
     "name": "stdout",
     "output_type": "stream",
     "text": [
      "24\n",
      "0\n"
     ]
    }
   ],
   "source": [
    "!g++ baitap1_testcase.cpp -o baitap1_testcase\n",
    "!./baitap1_testcase < baitap1_testcase.inp\n",
    "\n",
    "!g++ baitap1_testcase.cpp -o baitap1_testcase\n",
    "!./baitap1_testcase < baitap2_testcase.inp"
   ]
  },
  {
   "cell_type": "code",
   "execution_count": 5,
   "id": "6109e877",
   "metadata": {},
   "outputs": [
    {
     "data": {
      "text/plain": [
       "CompletedProcess(args=['g++', 'practice.cpp', '-o', 'practice'], returncode=0)"
      ]
     },
     "execution_count": 5,
     "metadata": {},
     "output_type": "execute_result"
    }
   ],
   "source": [
    "import subprocess\n",
    "\n",
    "subprocess.run([\"g++\", \"test_a.cpp\", \"-o\", \"test_a\"], check=True)\n",
    "subprocess.run([\"g++\", \"test_b.cpp\", \"-o\", \"test_b\"], check=True)\n",
    "subprocess.run([\"g++\", \"test_c.cpp\", \"-o\", \"test_c\"], check=True)\n",
    "subprocess.run([\"g++\", \"test_d.cpp\", \"-o\", \"test_d\"], check=True)\n",
    "subprocess.run([\"g++\", \"test_e.cpp\", \"-o\", \"test_e\"], check=True)\n",
    "subprocess.run([\"g++\", \"practice.cpp\", \"-o\", \"practice\"], check=True)"
   ]
  },
  {
   "cell_type": "code",
   "execution_count": 6,
   "id": "a4f9b79d",
   "metadata": {},
   "outputs": [
    {
     "name": "stdout",
     "output_type": "stream",
     "text": [
      "f1(7) = -7\n",
      "f1(10) = -10\n",
      "f1(24) = 48\n",
      "f1(0) = 0\n",
      "f1(-5) = 5\n",
      "\n"
     ]
    }
   ],
   "source": [
    "res = subprocess.run([\"./test_a\"], \n",
    "    stdout=subprocess.PIPE)\n",
    "print(res.stdout.decode())"
   ]
  },
  {
   "cell_type": "code",
   "execution_count": 7,
   "id": "f0597236",
   "metadata": {},
   "outputs": [
    {
     "name": "stdout",
     "output_type": "stream",
     "text": [
      "f1(15) = 30\n",
      "f1(10) = -10\n",
      "f1(1) = -1\n",
      "f1(0) = 0\n",
      "f1(-5) = -10\n",
      "\n"
     ]
    }
   ],
   "source": [
    "result = subprocess.run([\"./test_b\"], \n",
    "    stdout=subprocess.PIPE)\n",
    "print(result.stdout.decode())"
   ]
  },
  {
   "cell_type": "code",
   "execution_count": 8,
   "id": "f00cfe00",
   "metadata": {},
   "outputs": [
    {
     "name": "stdout",
     "output_type": "stream",
     "text": [
      "f2(10) = 20\n",
      "f2(0) = 0\n",
      "f2(-5) = -10\n",
      "f2(13) = 26\n",
      "\n"
     ]
    }
   ],
   "source": [
    "result = subprocess.run([\"./test_c\"], \n",
    "    stdout=subprocess.PIPE)\n",
    "print(result.stdout.decode())"
   ]
  },
  {
   "cell_type": "code",
   "execution_count": 9,
   "id": "74127e10",
   "metadata": {},
   "outputs": [
    {
     "name": "stdout",
     "output_type": "stream",
     "text": [
      "f3(3) = 6\n",
      "\n"
     ]
    }
   ],
   "source": [
    "result = subprocess.run([\"./test_d\"],\n",
    "    stdout=subprocess.PIPE)\n",
    "print(result.stdout.decode())"
   ]
  },
  {
   "cell_type": "code",
   "execution_count": 10,
   "id": "48fd2b86",
   "metadata": {},
   "outputs": [
    {
     "name": "stdout",
     "output_type": "stream",
     "text": [
      "Các số ( 6, 3, 1 )\n",
      " => Số lớn nhất là: 6\n",
      "Các số ( 4, 7, 2 )\n",
      " => Số lớn nhất là: 7\n",
      "Các số ( 2, 3, 8 )\n",
      " => Số lớn nhất là: 8\n",
      "Các số ( 5, 5, 2 )\n",
      " => Số lớn nhất là: 0\n",
      "Các số ( 4, 7, 7 )\n",
      " => Số lớn nhất là: 0\n",
      "Các số ( 9, 3, 9 )\n",
      " => Số lớn nhất là: 0\n",
      "Các số ( 7, 7, 7 )\n",
      " => Số lớn nhất là: 0\n",
      "\n"
     ]
    }
   ],
   "source": [
    "result = subprocess.run([\"./test_e\"],\n",
    "    stdout=subprocess.PIPE)\n",
    "print(result.stdout.decode())"
   ]
  },
  {
   "cell_type": "code",
   "execution_count": 12,
   "id": "7ccf6679",
   "metadata": {},
   "outputs": [
    {
     "name": "stdout",
     "output_type": "stream",
     "text": [
      "No solution.\n",
      "Test 1: (0,0,0) -> n = -1 => Infinite solutions.\n",
      "Test 2: (0,0,5) -> n = 0 => No solution.\n",
      "Test 3: (0,2,-8) -> n = 2 => 2 solutions\n",
      "Test 4: (1,0,-1) -> n = 2 => 2 solutions\n",
      "Test 5: (1,-5,4) -> n = 4 => 4 solutions\n",
      "Test 6: (1,2,5) -> n = 0 => No solution.\n",
      "Test 7: (0,0,0) -> n = -1 => Infinite solutions.\n",
      "\n"
     ]
    }
   ],
   "source": [
    "result = subprocess.run([\"./practice\"], stdout=subprocess.PIPE)\n",
    "print(result.stdout.decode())"
   ]
  },
  {
   "cell_type": "code",
   "execution_count": null,
   "id": "90d4b3bc",
   "metadata": {},
   "outputs": [],
   "source": []
  }
 ],
 "metadata": {
  "kernelspec": {
   "display_name": "Python 3",
   "language": "python",
   "name": "python3"
  },
  "language_info": {
   "codemirror_mode": {
    "name": "ipython",
    "version": 3
   },
   "file_extension": ".py",
   "mimetype": "text/x-python",
   "name": "python",
   "nbconvert_exporter": "python",
   "pygments_lexer": "ipython3",
   "version": "3.12.1"
  }
 },
 "nbformat": 4,
 "nbformat_minor": 5
}
